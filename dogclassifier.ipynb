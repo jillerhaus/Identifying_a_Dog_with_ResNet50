{
 "cells": [
  {
   "cell_type": "markdown",
   "metadata": {},
   "source": [
    "# Identifying my Dad's Dog Using ResNet50\n",
    "\n",
    "The dog was adopted from Greece. The dog is a mix but it was not entirely clear which different breeds make up her genetic material. Later she was genetically tested to find this out. I don't know the result of the genetic test, but as an exercise in using pre-trained neural networks, I will try to find out if ResNet50 will be able to identify the breeds of the dog just by looking at pictures of her.\n",
    "\n",
    "This was done as an exercise while completing the [Deep Learning Turorials of Kaggle](https://www.kaggle.com/learn/deep-learning) and is very closely based on the example code in step 3. This was mainly done to go through the code myself and get a better understanding of it."
   ]
  },
  {
   "cell_type": "markdown",
   "metadata": {},
   "source": [
    "# Setup\n",
    "\n",
    "Making a list of the pictures and then preprocessing them for ResNet50"
   ]
  },
  {
   "cell_type": "code",
   "execution_count": 1,
   "metadata": {},
   "outputs": [],
   "source": [
    "from os.path import join"
   ]
  },
  {
   "cell_type": "code",
   "execution_count": 3,
   "metadata": {},
   "outputs": [],
   "source": [
    "from os import listdir\n",
    "from os.path import isfile,join\n",
    "#mypath = r'C:\\Users\\apist\\Google Drive\\Python\\Kaggle\\dogclass\\input\\hot-dog-not-hot-dog\\train\\hot_dog'\n",
    "mypath = r'.\\input\\Eliebilder'\n",
    "img_paths = [join(mypath,f) for f in listdir(mypath) if isfile(join(mypath, f))]"
   ]
  },
  {
   "cell_type": "code",
   "execution_count": 3,
   "metadata": {},
   "outputs": [],
   "source": [
    "import numpy as np\n",
    "import tensorflow.keras.applications.resnet50 as tf\n",
    "from tensorflow.keras.applications.resnet50 import preprocess_input\n",
    "from tensorflow.python.keras.preprocessing.image import load_img, img_to_array\n",
    "image_size = 224\n",
    "\n",
    "def read_and_prep_images(img_paths, img_height = image_size, img_width = image_size):\n",
    "    imgs = [load_img(img_path, target_size = (img_height, img_width)) for img_path in img_paths]\n",
    "    img_array = np.array([img_to_array(img) for img in imgs])\n",
    "    output = preprocess_input(img_array)\n",
    "    return(output)"
   ]
  },
  {
   "cell_type": "code",
   "execution_count": 4,
   "metadata": {
    "scrolled": true
   },
   "outputs": [],
   "source": [
    "from tensorflow.keras.applications import ResNet50\n",
    "\n",
    "my_model = ResNet50()\n",
    "#weights = 'input/resnet50/resnet50_weights_tf_dim_ordering_tf_kernels.h5')\n",
    "test_data = read_and_prep_images(img_paths)\n",
    "preds = my_model.predict(test_data)\n"
   ]
  },
  {
   "cell_type": "code",
   "execution_count": 5,
   "metadata": {
    "scrolled": true
   },
   "outputs": [
    {
     "data": {
      "text/plain": [
       "[[('n13040303', 'stinkhorn', 0.47584033),\n",
       "  ('n01532829', 'house_finch', 0.10813077),\n",
       "  ('n01833805', 'hummingbird', 0.047635727),\n",
       "  ('n01443537', 'goldfish', 0.045301817),\n",
       "  ('n01828970', 'bee_eater', 0.03528981)],\n",
       " [('n02264363', 'lacewing', 0.7224447),\n",
       "  ('n02259212', 'leafhopper', 0.14916922),\n",
       "  ('n02169497', 'leaf_beetle', 0.029276986),\n",
       "  ('n01945685', 'slug', 0.026277352),\n",
       "  ('n04275548', 'spider_web', 0.017268019)],\n",
       " [('n02655020', 'puffer', 0.34933499),\n",
       "  ('n02526121', 'eel', 0.23623192),\n",
       "  ('n01537544', 'indigo_bunting', 0.04792212),\n",
       "  ('n01945685', 'slug', 0.037583757),\n",
       "  ('n02259212', 'leafhopper', 0.029946728)],\n",
       " [('n01687978', 'agama', 0.4309059),\n",
       "  ('n01537544', 'indigo_bunting', 0.0544242),\n",
       "  ('n03980874', 'poncho', 0.03266112),\n",
       "  ('n01818515', 'macaw', 0.027101139),\n",
       "  ('n04277352', 'spindle', 0.026090972)],\n",
       " [('n02655020', 'puffer', 0.28872153),\n",
       "  ('n01818515', 'macaw', 0.13155904),\n",
       "  ('n01833805', 'hummingbird', 0.11796453),\n",
       "  ('n01806143', 'peacock', 0.030705491),\n",
       "  ('n01692333', 'Gila_monster', 0.024507873)],\n",
       " [('n13133613', 'ear', 0.42737103),\n",
       "  ('n12144580', 'corn', 0.07760865),\n",
       "  ('n02259212', 'leafhopper', 0.061781142),\n",
       "  ('n07716358', 'zucchini', 0.045326937),\n",
       "  ('n01910747', 'jellyfish', 0.043063074)],\n",
       " [('n01694178', 'African_chameleon', 0.27790087),\n",
       "  ('n01644373', 'tree_frog', 0.10203192),\n",
       "  ('n07714990', 'broccoli', 0.09195741),\n",
       "  ('n09256479', 'coral_reef', 0.07474074),\n",
       "  ('n07754684', 'jackfruit', 0.05527565)],\n",
       " [('n01644373', 'tree_frog', 0.79552805),\n",
       "  ('n01753488', 'horned_viper', 0.047831155),\n",
       "  ('n01641577', 'bullfrog', 0.034056645),\n",
       "  ('n01694178', 'African_chameleon', 0.01820131),\n",
       "  ('n01644900', 'tailed_frog', 0.015408173)],\n",
       " [('n01770393', 'scorpion', 0.08723238),\n",
       "  ('n02823428', 'beer_bottle', 0.08530051),\n",
       "  ('n01914609', 'sea_anemone', 0.07601487),\n",
       "  ('n02747177', 'ashcan', 0.073147416),\n",
       "  ('n03991062', 'pot', 0.07151598)],\n",
       " [('n02017213', 'European_gallinule', 0.45040417),\n",
       "  ('n01818515', 'macaw', 0.16879591),\n",
       "  ('n01843383', 'toucan', 0.087579615),\n",
       "  ('n01514668', 'cock', 0.07493196),\n",
       "  ('n01443537', 'goldfish', 0.02249475)],\n",
       " [('n09256479', 'coral_reef', 0.20339537),\n",
       "  ('n01986214', 'hermit_crab', 0.16125183),\n",
       "  ('n02017213', 'European_gallinule', 0.06980462),\n",
       "  ('n01774750', 'tarantula', 0.06478162),\n",
       "  ('n02526121', 'eel', 0.052971408)],\n",
       " [('n01537544', 'indigo_bunting', 0.40101278),\n",
       "  ('n01580077', 'jay', 0.23296474),\n",
       "  ('n03223299', 'doormat', 0.06808939),\n",
       "  ('n03991062', 'pot', 0.03058617),\n",
       "  ('n03530642', 'honeycomb', 0.029855482)],\n",
       " [('n01580077', 'jay', 0.38141558),\n",
       "  ('n01537544', 'indigo_bunting', 0.28912318),\n",
       "  ('n01818515', 'macaw', 0.18713504),\n",
       "  ('n01828970', 'bee_eater', 0.071898),\n",
       "  ('n01820546', 'lorikeet', 0.042064946)],\n",
       " [('n01818515', 'macaw', 0.5880917),\n",
       "  ('n01806143', 'peacock', 0.29699332),\n",
       "  ('n01537544', 'indigo_bunting', 0.015424842),\n",
       "  ('n02526121', 'eel', 0.013575116),\n",
       "  ('n09256479', 'coral_reef', 0.010305189)],\n",
       " [('n02087046', 'toy_terrier', 0.7308389),\n",
       "  ('n02085620', 'Chihuahua', 0.1493586),\n",
       "  ('n02091032', 'Italian_greyhound', 0.015021158),\n",
       "  ('n02090622', 'borzoi', 0.011265896),\n",
       "  ('n02097298', 'Scotch_terrier', 0.011211181)],\n",
       " [('n02113712', 'miniature_poodle', 0.33454013),\n",
       "  ('n02099712', 'Labrador_retriever', 0.22127448),\n",
       "  ('n02100735', 'English_setter', 0.071341366),\n",
       "  ('n02104029', 'kuvasz', 0.071204275),\n",
       "  ('n02093647', 'Bedlington_terrier', 0.054995853)],\n",
       " [('n02091244', 'Ibizan_hound', 0.18845451),\n",
       "  ('n02113023', 'Pembroke', 0.14926231),\n",
       "  ('n02091032', 'Italian_greyhound', 0.11395895),\n",
       "  ('n02110185', 'Siberian_husky', 0.06393706),\n",
       "  ('n01943899', 'conch', 0.03674602)],\n",
       " [('n02090622', 'borzoi', 0.46887663),\n",
       "  ('n02099712', 'Labrador_retriever', 0.34162158),\n",
       "  ('n02099601', 'golden_retriever', 0.057471443),\n",
       "  ('n02111500', 'Great_Pyrenees', 0.051751804),\n",
       "  ('n02104029', 'kuvasz', 0.03977485)],\n",
       " [('n02099712', 'Labrador_retriever', 0.6401081),\n",
       "  ('n02104029', 'kuvasz', 0.061435696),\n",
       "  ('n02111500', 'Great_Pyrenees', 0.04981448),\n",
       "  ('n09332890', 'lakeside', 0.044100158),\n",
       "  ('n02099601', 'golden_retriever', 0.031665158)],\n",
       " [('n02099712', 'Labrador_retriever', 0.4681598),\n",
       "  ('n02099601', 'golden_retriever', 0.17469196),\n",
       "  ('n02111500', 'Great_Pyrenees', 0.08522588),\n",
       "  ('n02091831', 'Saluki', 0.038418047),\n",
       "  ('n02100735', 'English_setter', 0.03439226)],\n",
       " [('n02090622', 'borzoi', 0.24723414),\n",
       "  ('n02093647', 'Bedlington_terrier', 0.13325718),\n",
       "  ('n02104029', 'kuvasz', 0.08094564),\n",
       "  ('n02099712', 'Labrador_retriever', 0.04566799),\n",
       "  ('n02091831', 'Saluki', 0.041732322)],\n",
       " [('n02090622', 'borzoi', 0.75960225),\n",
       "  ('n02091831', 'Saluki', 0.09867313),\n",
       "  ('n02091134', 'whippet', 0.021665277),\n",
       "  ('n02099712', 'Labrador_retriever', 0.020996163),\n",
       "  ('n02104029', 'kuvasz', 0.019797584)],\n",
       " [('n02099712', 'Labrador_retriever', 0.40650472),\n",
       "  ('n02090622', 'borzoi', 0.27183974),\n",
       "  ('n02091831', 'Saluki', 0.12771346),\n",
       "  ('n02091134', 'whippet', 0.044978656),\n",
       "  ('n02091244', 'Ibizan_hound', 0.015651997)],\n",
       " [('n02090622', 'borzoi', 0.80485135),\n",
       "  ('n02099712', 'Labrador_retriever', 0.055020116),\n",
       "  ('n02111500', 'Great_Pyrenees', 0.049787525),\n",
       "  ('n02104029', 'kuvasz', 0.030716877),\n",
       "  ('n02091831', 'Saluki', 0.014375747)],\n",
       " [('n02099712', 'Labrador_retriever', 0.21451023),\n",
       "  ('n02104029', 'kuvasz', 0.13115935),\n",
       "  ('n02098105', 'soft-coated_wheaten_terrier', 0.1148621),\n",
       "  ('n02093647', 'Bedlington_terrier', 0.07415701),\n",
       "  ('n02111500', 'Great_Pyrenees', 0.07034502)],\n",
       " [('n02114548', 'white_wolf', 0.2128105),\n",
       "  ('n02090622', 'borzoi', 0.11121788),\n",
       "  ('n02111500', 'Great_Pyrenees', 0.09101727),\n",
       "  ('n02104029', 'kuvasz', 0.06921172),\n",
       "  ('n02111889', 'Samoyed', 0.05362719)]]"
      ]
     },
     "execution_count": 5,
     "metadata": {},
     "output_type": "execute_result"
    }
   ],
   "source": [
    "from tensorflow.keras.applications.resnet import decode_predictions\n",
    "decode_predictions(preds)"
   ]
  },
  {
   "cell_type": "code",
   "execution_count": null,
   "metadata": {},
   "outputs": [],
   "source": []
  }
 ],
 "metadata": {
  "kernelspec": {
   "display_name": "Python 3",
   "language": "python",
   "name": "python3"
  },
  "language_info": {
   "codemirror_mode": {
    "name": "ipython",
    "version": 3
   },
   "file_extension": ".py",
   "mimetype": "text/x-python",
   "name": "python",
   "nbconvert_exporter": "python",
   "pygments_lexer": "ipython3",
   "version": "3.7.7"
  },
  "toc": {
   "base_numbering": 1,
   "nav_menu": {},
   "number_sections": false,
   "sideBar": true,
   "skip_h1_title": true,
   "title_cell": "Table of Contents",
   "title_sidebar": "Contents",
   "toc_cell": false,
   "toc_position": {},
   "toc_section_display": true,
   "toc_window_display": true
  }
 },
 "nbformat": 4,
 "nbformat_minor": 4
}
