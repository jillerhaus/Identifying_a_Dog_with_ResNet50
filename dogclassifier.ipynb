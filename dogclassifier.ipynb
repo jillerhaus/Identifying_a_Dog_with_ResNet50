{
 "cells": [
  {
   "cell_type": "markdown",
   "metadata": {},
   "source": [
    "# Identifying my Dad's Dog Using ResNet50\n",
    "\n",
    "The dog was adopted from Greece. The dog is a mix but it was not entirely clear which different breeds make up her genetic material. Later she was genetically tested to find this out. I don't know the result of the genetic test, but as an exercise in using pre-trained neural networks, I will try to find out if ResNet50 will be able to identify the breeds of the dog just by looking at pictures of her.\n",
    "\n",
    "This was done as an exercise while completing the [Deep Learning Turorials of Kaggle](https://www.kaggle.com/learn/deep-learning) and is very closely based on the example code in step 3. This was mainly done to go through the code myself and get a better understanding of it."
   ]
  },
  {
   "cell_type": "markdown",
   "metadata": {},
   "source": [
    "# Setup\n",
    "\n",
    "Making a list of the pictures and then preprocessing them for ResNet50"
   ]
  },
  {
   "cell_type": "code",
   "execution_count": 1,
   "metadata": {},
   "outputs": [],
   "source": [
    "from os.path import join\n",
    "image_dir = '../input/hot-dog-not-hot-dog/train/'"
   ]
  },
  {
   "cell_type": "code",
   "execution_count": 2,
   "metadata": {},
   "outputs": [],
   "source": [
    "from os import listdir\n",
    "from os.path import isfile\n",
    "mypath = r'C:\\Users\\apist\\Google Drive\\Python\\Kaggle\\dogclass\\input\\hot-dog-not-hot-dog\\train\\hot_dog'\n",
    "img_paths = [join(mypath,f) for f in listdir(mypath) if isfile(join(mypath, f))]"
   ]
  },
  {
   "cell_type": "code",
   "execution_count": 3,
   "metadata": {},
   "outputs": [],
   "source": [
    "import numpy as np\n",
    "import tensorflow.keras.applications.resnet50 as tf\n",
    "from tensorflow.keras.applications.resnet50 import preprocess_input\n",
    "from tensorflow.python.keras.preprocessing.image import load_img, img_to_array\n",
    "image_size = 224\n",
    "\n",
    "def read_and_prep_images(img_paths, img_height = image_size, img_width = image_size):\n",
    "    imgs = [load_img(img_path, target_size = (img_height, img_width)) for img_path in img_paths]\n",
    "    img_array = np.array([img_to_array(img) for img in imgs])\n",
    "    output = preprocess_input(img_array)\n",
    "    return(output)"
   ]
  },
  {
   "cell_type": "code",
   "execution_count": 6,
   "metadata": {
    "scrolled": true
   },
   "outputs": [],
   "source": [
    "from tensorflow.keras.applications import ResNet50\n",
    "\n",
    "my_model = ResNet50(weights = 'input/')"
   ]
  }
 ],
 "metadata": {
  "kernelspec": {
   "display_name": "Python 3",
   "language": "python",
   "name": "python3"
  },
  "language_info": {
   "codemirror_mode": {
    "name": "ipython",
    "version": 3
   },
   "file_extension": ".py",
   "mimetype": "text/x-python",
   "name": "python",
   "nbconvert_exporter": "python",
   "pygments_lexer": "ipython3",
   "version": "3.7.6"
  }
 },
 "nbformat": 4,
 "nbformat_minor": 4
}
